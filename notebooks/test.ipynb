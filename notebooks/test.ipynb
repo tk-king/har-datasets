{
 "cells": [
  {
   "cell_type": "code",
   "execution_count": 1,
   "id": "e721ca49",
   "metadata": {},
   "outputs": [],
   "source": [
    "from matplotlib import pyplot as plt\n",
    "from whar_datasets.adapters.pytorch import PytorchAdapter\n",
    "from whar_datasets.support.getter import WHARDatasetID, get_whar_cfg\n",
    "import rich"
   ]
  },
  {
   "cell_type": "code",
   "execution_count": null,
   "id": "7614b442",
   "metadata": {},
   "outputs": [
    {
     "name": "stdout",
     "output_type": "stream",
     "text": [
      "Creating config hash...\n",
      "Checking download...\n",
      "Download exists.\n",
      "Checking sessions...\n",
      "Sessions exist.\n",
      "Validating common format...\n",
      "[########################################] | 100% Completed | 1.41 ss\n",
      "Common format validated.\n",
      "Checking windowing...\n",
      "Loading config hash...\n",
      "Windowing exists.\n",
      "subject_ids: [ 0  1  2  3  4  5  6  7  8  9 10 11 12 13 14 15 16 17 18 19 20 21 22 23\n",
      " 24 25 26 27 28 29]\n",
      "activity_ids: [0 1 2 3 4 5]\n"
     ]
    }
   ],
   "source": [
    "cfg = get_whar_cfg(WHARDatasetID.UCI_HAR)\n",
    "dataset = PytorchAdapter(cfg, override_cache=False)"
   ]
  },
  {
   "cell_type": "code",
   "execution_count": 3,
   "id": "dd7dca59",
   "metadata": {},
   "outputs": [
    {
     "name": "stdout",
     "output_type": "stream",
     "text": [
      "train: 7045 | val: 783 | test: 1671\n",
      "Postprocessing...\n",
      "Loading all windows from single parquet file...\n"
     ]
    },
    {
     "name": "stderr",
     "output_type": "stream",
     "text": [
      "Splitting windows: 100%|██████████| 9499/9499 [00:01<00:00, 6943.15it/s]\n"
     ]
    },
    {
     "name": "stdout",
     "output_type": "stream",
     "text": [
      "Getting normalization parameters...\n",
      "Loading config hash...\n",
      "Creating normalization parameters hash...\n",
      "Loading normalization parameters hash...\n"
     ]
    },
    {
     "name": "stderr",
     "output_type": "stream",
     "text": [
      "Normalizing windows: 100%|██████████| 9499/9499 [00:01<00:00, 5305.40it/s]\n",
      "Transforming windows: 100%|██████████| 9499/9499 [00:00<00:00, 3386459.30it/s]\n",
      "Combining samples: 100%|██████████| 9499/9499 [00:00<00:00, 110923.11it/s]\n"
     ]
    }
   ],
   "source": [
    "train_loader, val_loader, test_loader = dataset.get_dataloaders(\n",
    "    train_batch_size=32, scv_group_index=2, override_cache=False\n",
    ")"
   ]
  },
  {
   "cell_type": "code",
   "execution_count": 4,
   "id": "219da915",
   "metadata": {},
   "outputs": [
    {
     "name": "stdout",
     "output_type": "stream",
     "text": [
      "{2: 0.6968517014613271, 0: 0.7306023536688557, 1: 0.7724139341499047, 3: 1.0257657045510735, 5: 1.3496917165145703, 4: 1.4246745896542687}\n"
     ]
    }
   ],
   "source": [
    "weights = dataset.get_class_weights(test_loader)\n",
    "print(weights)"
   ]
  },
  {
   "cell_type": "code",
   "execution_count": 5,
   "id": "eba78437",
   "metadata": {},
   "outputs": [
    {
     "ename": "ValueError",
     "evalue": "not enough values to unpack (expected 4, got 2)",
     "output_type": "error",
     "traceback": [
      "\u001b[31m---------------------------------------------------------------------------\u001b[39m",
      "\u001b[31mValueError\u001b[39m                                Traceback (most recent call last)",
      "\u001b[36mCell\u001b[39m\u001b[36m \u001b[39m\u001b[32mIn[5]\u001b[39m\u001b[32m, line 7\u001b[39m\n\u001b[32m      1\u001b[39m \u001b[38;5;28;01mfrom\u001b[39;00m\u001b[38;5;250m \u001b[39m\u001b[34;01mwhar_datasets\u001b[39;00m\u001b[34;01m.\u001b[39;00m\u001b[34;01mcore\u001b[39;00m\u001b[34;01m.\u001b[39;00m\u001b[34;01mfeatures\u001b[39;00m\u001b[34;01m.\u001b[39;00m\u001b[34;01mwavelet_transform\u001b[39;00m\u001b[38;5;250m \u001b[39m\u001b[38;5;28;01mimport\u001b[39;00m (\n\u001b[32m      2\u001b[39m     dtw_grid_to_signal,\n\u001b[32m      3\u001b[39m     plot_dwt_grid,\n\u001b[32m      4\u001b[39m )\n\u001b[32m----> \u001b[39m\u001b[32m7\u001b[39m y_batch, x_batch, grid_batch, lengths_batch = \u001b[38;5;28mnext\u001b[39m(\u001b[38;5;28miter\u001b[39m(train_loader))\n\u001b[32m      9\u001b[39m plot_dwt_grid(grid_batch[\u001b[32m0\u001b[39m])\n\u001b[32m     11\u001b[39m grid = grid_batch[\u001b[32m0\u001b[39m].numpy()\n",
      "\u001b[31mValueError\u001b[39m: not enough values to unpack (expected 4, got 2)"
     ]
    }
   ],
   "source": [
    "from whar_datasets.core.features.wavelet_transform import (\n",
    "    dtw_grid_to_signal,\n",
    "    plot_dwt_grid,\n",
    ")\n",
    "\n",
    "\n",
    "y_batch, x_batch, grid_batch, lengths_batch = next(iter(train_loader))\n",
    "\n",
    "plot_dwt_grid(grid_batch[0])\n",
    "\n",
    "grid = grid_batch[0].numpy()\n",
    "lengths = lengths_batch[0].int().numpy()\n",
    "x = x_batch[0].numpy()\n",
    "\n",
    "signal_recon = dtw_grid_to_signal(grid, lengths)\n",
    "plt.plot(x)\n",
    "plt.show()\n",
    "plt.plot(signal_recon)\n",
    "plt.show()"
   ]
  },
  {
   "cell_type": "code",
   "execution_count": null,
   "id": "9a95ccf2",
   "metadata": {},
   "outputs": [],
   "source": []
  }
 ],
 "metadata": {
  "kernelspec": {
   "display_name": "whar-datasets",
   "language": "python",
   "name": "python3"
  },
  "language_info": {
   "codemirror_mode": {
    "name": "ipython",
    "version": 3
   },
   "file_extension": ".py",
   "mimetype": "text/x-python",
   "name": "python",
   "nbconvert_exporter": "python",
   "pygments_lexer": "ipython3",
   "version": "3.11.11"
  }
 },
 "nbformat": 4,
 "nbformat_minor": 5
}
